{
 "cells": [
  {
   "cell_type": "markdown",
   "metadata": {},
   "source": [
    "<code style=\"background:steelblue\">                                                                                                              </code>\n",
    "\n",
    "## Aufgabenbeschreibung P3: \n",
    "\n",
    "Bei der Suche nach möglichen Genen in einer DNA Sequenz ist das erste Indiz ein Start Codon (ATG).\n",
    "\n",
    "Wir möchten also in einer genomischen DNA Sequenz nach dem Muster: \"ATG\" suchen. Wir beginnen am Anfang der Sequenz. In der ersten Runde überprüfen wir ob die ersten drei Stellen unser Muster (\"ATG\") enthalten, in dem wir diese Stellen ausgeben und mit dem Muster vergleichen. Nachdem ein Gen in allen 3 Leserahmen eines DNA Strangs beginnen kann, rücken wir im zweiten Schritt eine Position weiter und vergleichen die nächsten 3 Nukleotide wieder mit dem Muster. \n",
    "\n",
    "<img src=\"ProBif_Pic01.png\" width=\"360\">\n",
    "\n",
    "\n",
    "> Für diese Aufgabe müssen wir:\n",
    ">\n",
    "> - An jeder Position die derzeitige + die zwei folgenden Positionen extrahieren\n",
    "> - und mit dem Muster vergleichen\n",
    "> - Diese Arbeitsschritte für jede Position in der Sequenz wiederholen.\n",
    "\n",
    "***\n"
   ]
  },
  {
   "cell_type": "markdown",
   "metadata": {},
   "source": [
    "<code style=\"background:steelblue\">                                                                                                                     </code>\n",
    "\n",
    "### Mit Strings arbeiten\n",
    "\n",
    "Es gibt unterschiedliche Funktionen die man auf Strings anwenden kann. Wir benötigen unter anderem die Funktion\n",
    "\n",
    "- `len()` welche die Länge eines Strings ausgibt. \n",
    "\n",
    "Andere Funktionen sind z.B.\n",
    "- `mystring.upper()` alles in Großbuchstaben\n",
    "- `mystring.lower()` alles in Kleinbuchstaben\n",
    "\n",
    "Über den Index (Position) kann man auf Teile eines Strings zugreifen. Die erste Stelle eines Strings hat in Python den Index (die Stelle) 0. Das heißt mit `mystring[0]` würde man die erste Position bekommen. Wie in R werden mehrere zusammenhängende Positionen über ein von:bis `[2:5]` angegeben. In Python ist die **erste Stelle inkludiert, die letztere Stelle exkludiert.**\n",
    "\n",
    "Für das Ende der Sequenz gibt es einen Trick, mit negativen Werten kann man die Stellen vom Ende angeben, z.B. `[-10:-4]`. \n",
    "\n",
    "Wenn wir die letzten Stellen eines Strings ausgeben wollen, können wir die Funktion len() verwenden, so muss man nicht wissen wie lang der String ist, z.B. `[-5:len(mystring)]`. Es gibt aber noch einen weiteren Trick, wenn man den Wert hinter dem Doppelpunkt weg läßt, wird auch automatisch das Ende des Strings angenommen.\n",
    "\n",
    "Es ist wichtig zu bedenken, dass die Länge der Sequenz nicht mit dem letzten Index der Sequenz übereinstimmt, da  der Index bei 0 beginnt.\n",
    "\n",
    "Wir weisen die Input Sequenz: \"GATGCCATGC\" einer Variable zu. Die Sequenz hat die Klasse \"String\".\n",
    "\n",
    "***"
   ]
  },
  {
   "cell_type": "code",
   "execution_count": null,
   "metadata": {},
   "outputs": [],
   "source": [
    "#Zuweisen der Sequenz zur Variable\n",
    "sequence = \"GATGCCATGC\"\n",
    "\n",
    "# Klasse bzw. den Typ einer Variable herausfinden\n",
    "print(type(sequence))\n",
    "\n",
    "#Extrahieren eines Sequenzteils\n",
    "i=0\n",
    "j=i+3\n",
    "teil = sequence[i:j]\n",
    "\n",
    "#Ausdrucken des extrahierten Sequenzteils\n",
    "print(\"Das Nukleotid an der Position 0 ist:\",teil)\n",
    "#Oder auch beides in einem\n",
    "#print(\"Das Nukleotid an der Position 0 ist:\",sequence[0])"
   ]
  },
  {
   "cell_type": "code",
   "execution_count": null,
   "metadata": {},
   "outputs": [],
   "source": [
    "sequence = \"GATGCCATGC\"\n",
    "#print(type(sequence))\n",
    "teil = sequence[1]\n",
    "print(\"Das Nukleotid an der Position 0 ist:\",teil)\n",
    "print(\"Das Nukleotid an der Position 0 ist:\",sequence[1])"
   ]
  },
  {
   "cell_type": "code",
   "execution_count": null,
   "metadata": {},
   "outputs": [],
   "source": [
    "sequence = \"GATGCCATGC\"\n",
    "\n",
    "#Extrahieren von zusammenhängenden Stringteilen\n",
    "print(sequence[0:1])\n",
    "print(sequence[0:4])\n",
    "\n",
    "#Mit negativen Werten kann man die Stellen vom Ende angeben.\n",
    "#Mit len(sequence) können wir das Ende der Sequenz angeben\n",
    "\n",
    "print(sequence[-3:len(sequence)])\n",
    "\n",
    "#Wenn man keinen Index angiebt wird automatisch das Ende (bzw. vorne der Anfang) der\n",
    "#Sequenz genommen.\n",
    "\n",
    "print(sequence[-3:])\n",
    "print(sequence[-3:-1])\n",
    "print(sequence[-1])"
   ]
  },
  {
   "cell_type": "code",
   "execution_count": null,
   "metadata": {},
   "outputs": [],
   "source": [
    "#Zuweisen der Sequenz zur Variable\n",
    "sequence = \"GATGCCATGC\"\n",
    "\n",
    "#Länge der Sequenz\n",
    "lenseq = len(sequence)\n",
    "print(lenseq)\n",
    "\n",
    "#Wenn ich versuche die Länge der Sequenz als Index zu verwenden um die letzte Position zu bekommen, \n",
    "#kommt es zu einer Fehlermeldung. Der letzte Index ist immer die Länge der Sequenz -1\n",
    "\n",
    "#last = sequence[lenseq]\n",
    "lasti = sequence[lenseq-1]\n",
    "\n",
    "#print(last)\n",
    "print(lasti)\n"
   ]
  },
  {
   "cell_type": "markdown",
   "metadata": {},
   "source": [
    "<code style=\"background:salmon\">                                                                                                                </code>\n",
    "\n",
    "**<font color = royalblue>Aufgabe P 3.1:</font>** \n",
    "> - Weisen Sie die Sequenz \"GCCATGAAATGCGCAATATATGCTCCTAGAGGATGCTGATTGA\" einer Variable zu. \n",
    "> - Extrahieren sie aus der Sequenz die ersten 5 Positionen.\n",
    "> - Extrahieren sie aus der Sequenz die letzten 5 Positionen.\n",
    "> - Zur Überprüfung der Sequenzteile, drucken sie die extrahierten Postitionen aus."
   ]
  },
  {
   "cell_type": "code",
   "execution_count": null,
   "metadata": {},
   "outputs": [],
   "source": [
    "# Zuweisen der Sequenz zu einer Variable (z.B. seq)\n",
    "seq = \n",
    "# Ersten 5 Positionen und letzten 5 Postitionen extrahieren.\n",
    "first = \n",
    "last = \n",
    "\n",
    "#Zur Überprüfung druckt die Variablen \"first\" und \"last\" aus.\n"
   ]
  },
  {
   "cell_type": "markdown",
   "metadata": {},
   "source": [
    "<code style=\"background:salmon\">                                                                                                             </code>\n",
    "\n",
    "Nun wollen wir den extrahierten Teil der Sequenz mit unserem Muster vergleichen. Dies können wir mit Vergleichsoperatoren, und einer if Abfrage umsetzen.\n",
    "\n",
    "\n",
    "> Zur Erinnerung: in Python hat eine if Bedingung den folgenden Syntax:\n",
    ">\n",
    ">>`if <Bedingung>: \n",
    ">>    Der Doppelpunkt ist wichtig, genau wie die Einrückung. \n",
    ">> else: \n",
    ">>     Auch hier benötigt man einen Doppelpunkt und die Einrückung.`\n",
    ">\n",
    ">Wenn es noch andere Bedingungen gibt, kann man in Python die Funktion `elif <Bedingung>:` verwenden. \n",
    ">\n",
    "> Vergleichsoperatoren können die folgenden sein: ==,!=, >, >=, <=, <\n",
    "\n",
    "\n",
    "Nun können wir diese Methode auf unsere Sequenz anwenden. Wir könne die ersten 3 Nukleotide mit unserem Muster vergleichen und entscheiden was wir weiter tun wollen.\n",
    "\n",
    "**<font color = royalblue>Aufgabe P 3.2:</font>** \n",
    "> - Weisen Sie die Sequenz \"GCCATGAAATGCGCAATATATGCTCCTAGAGGATGCTGATTGA\" einer Variable zu. \n",
    "> - Extrahieren Sie aus der Sequenz die ersten 3 Positionen.\n",
    "> - Vergleichen Sie die extrahierten Postitionen mit dem Muster \"ATG\".\n",
    "> - Wenn die extrahierten Postitionen mit dem Muster übereinstimmen soll ein Zähler um eins erhöht werden.\n",
    "***\n"
   ]
  },
  {
   "cell_type": "code",
   "execution_count": null,
   "metadata": {},
   "outputs": [],
   "source": [
    "#Zuweisen der Sequenz\n",
    "seq = \"GCCATGAAATGCGCAATATATGCTCCTAGAGGATGCTGATTGA\"\n",
    "\n",
    "#Initiieren der Zählvariable\n",
    "count=\n",
    "\n",
    "#Extrahieren der ersten drei Nukleotide\n",
    "seqteil = \n",
    "\n",
    "#If Abfrage, vergleich der extrahierten Nukleotide mit dem Muster\n",
    "#Wenn sie übereinstimmen, Zähler erhöhen.\n",
    "\n"
   ]
  },
  {
   "cell_type": "markdown",
   "metadata": {},
   "source": [
    "<code style=\"background:salmon\">                                                                                                                       </code>\n",
    "\n",
    "Nun benötigen wir wieder eine Schleife um die Sequenz zu durchlaufen. Wir können aber leider nicht direkt eine Schleife über die Werte der Sequenz verwenden, wie in unserem Wetter Beispiel, da wir die Anfangsposition für die Extraktion der 3 Nukleotide benötigen.\n",
    "\n",
    "Eine Möglichkeit ist eine **while Schleife** mit einer Zählvariable. Die while Schleife wird solange durchlaufen bis die letzte Position bzw. der letzte Index der Sequenz erreicht ist. \n",
    "\n",
    "`\n",
    "idxcount=0\n",
    "while idxcount < len(seq):\n",
    "    Codeteil\n",
    "    idxcount += 1`\n",
    "\n",
    "\n",
    "Zusätzlich kommt es zu einer Fehlermeldung wenn wir Positionen extrahieren wollen die nicht existieren, etwa wenn wir an der letzten (und vorletzten) Position die nächsten 2 Stellen extrahieren wollen, und damit die Länge der Sequenz überschreiten.\n",
    "\n",
    "Daher müssen wir die for Schleife so definieren dass sie mit der drittletzten Stelle der Sequenz endet. Der letzte Index an dem wir einen Vergleich beginnen können ist 7. Man kann den letzten Index über die Länge der Sequenz - der Länge des Musters (10-3 = 7) berechnen.\n",
    "\n",
    "<img src=\"Pictures/ProBif_Pic04.png\" width=\"480\">\n",
    "\n",
    "**<font color = royalblue>Aufgabe P 3.3:</font>** \n",
    "> - Verändern Sie ihren bisherigen Code so, dass der Vergleich zwischen extrahierten Nukleotiden und Muster (\"ATG\") in der **while Schleife** durchgeführt wird \n",
    "> - Verändern Sie ihren Code so, dass die Startposition und Endposition für die extrahierten Nukleotide, in jedem Durchlauf der Schleife eine Position weiter rechts ist.\n",
    "> - Erhöhen Sie den Schleifenzähler bei jedem Durchlauf um 1.\n",
    "***\n"
   ]
  },
  {
   "cell_type": "code",
   "execution_count": null,
   "metadata": {},
   "outputs": [],
   "source": [
    "#Zuweisen der Sequenz\n",
    "seq = \"GCCATGAAATGCGCAATATATGCTCCTAGAGGATGCTGATTGA\"\n",
    "\n",
    "# Initiieren der Zählvariable\n",
    "idxcount = 0\n",
    "count = 0\n",
    "\n",
    "lastidx = len(seq)-3\n",
    "print(lastidx)\n",
    "\n"
   ]
  },
  {
   "cell_type": "code",
   "execution_count": null,
   "metadata": {},
   "outputs": [],
   "source": [
    "while idxcount <= lastidx:\n",
    "    #Euer Codeteil mit Extraktion der 3 Nukleotide\n",
    "    #if Abfrage mit Vergleich zu ATG und Erhöhung des ATG Zählers.\n",
    " \n",
    "\n",
    "\n",
    "    #Erhöhung des Indexzählers\n",
    "    idxcount += 1\n",
    "\n",
    "#Ausgabe der Anzahl der ATGs die gefunden wurden.\n",
    "print(count)"
   ]
  },
  {
   "cell_type": "markdown",
   "metadata": {},
   "source": [
    "<code style=\"background:steelblue\">                                                                                                                       </code>\n",
    "\n",
    "Wenn man das ganze in einer for Schleife implementieren will kann man das mit dem Befehl \"range\" machen. Dieser würde uns für: \n",
    "\n",
    "`for i in range(8):` die Zahlen 0-7 ausgeben.\n",
    "\n",
    "`for pos in range(len(sequence)-len(\"ATG\")):` gibt uns bei einer Sequenzlänge - Muster = 7, die Werte 0-6 aus. Daher müssen wir hier +1 dazu zählen. \n",
    "\n",
    "\n",
    "`for pos in range(len(seq)-len(\"ATG\")+1):`\n",
    "\n",
    "\n",
    "\n",
    "<img src=\"Pictures/ProBif_Pic05.png\" width=\"480\">\n",
    "\n",
    "---\n"
   ]
  },
  {
   "cell_type": "code",
   "execution_count": null,
   "metadata": {},
   "outputs": [],
   "source": [
    "#Beispiel for Schleife\n",
    "sequence = \"GATGCCATGC\"\n",
    "print(\"Die Länge der Sequenz ist:\",len(sequence))\n",
    "for pos in range(len(sequence)):\n",
    "    print(\"An der Indexposition\",pos,\"steht\",sequence[pos])"
   ]
  },
  {
   "cell_type": "code",
   "execution_count": null,
   "metadata": {},
   "outputs": [],
   "source": [
    "#Beispiel for Schleife\n",
    "sequence = \"GATGCCATGC\"\n",
    "#Längen der Sequenzen ausgeben\n",
    "print(\"Die Länge der Sequenz ist:\",len(sequence))\n",
    "print(\"Die Länge der Sequenz Minus der Länge des Musters ist:\",len(sequence)-len(\"ATG\"))\n",
    "\n",
    "#Berechnen des richtigen range Wertes\n",
    "myrange = len(sequence)-len(\"ATG\") + 1\n",
    "\n",
    "#For Schleife über die Indexpositionen\n",
    "for pos in range(myrange):\n",
    "#    kmer = sequence[pos:pos+3]\n",
    "    print(\"Indexposition:\",pos,\"Muster beginnt mit:\",sequence[pos])"
   ]
  }
 ],
 "metadata": {
  "kernelspec": {
   "display_name": "Python 3 (ipykernel)",
   "language": "python",
   "name": "python3"
  },
  "language_info": {
   "codemirror_mode": {
    "name": "ipython",
    "version": 3
   },
   "file_extension": ".py",
   "mimetype": "text/x-python",
   "name": "python",
   "nbconvert_exporter": "python",
   "pygments_lexer": "ipython3",
   "version": "3.11.1"
  }
 },
 "nbformat": 4,
 "nbformat_minor": 4
}
