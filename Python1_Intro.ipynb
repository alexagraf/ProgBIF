{
 "cells": [
  {
   "cell_type": "markdown",
   "metadata": {},
   "source": [
    "<code style=\"background:khaki\">                                                                                     </code>\n",
    "\n",
    "## Hello Python:\n",
    "\n",
    "Die Druckfunktion `print()` gibt in Python alles auf den Bildschirm aus, was in der Klammer steht.\n",
    "\n",
    "* Strings (Text) müssen in Anführungszeichen gesetzt sein (\"ein Beispiel\"). \n",
    "* Zahlen und Variablen werden ohne Anführungszeichen geschrieben. \n",
    "* Mehrere Zahlen, Variablen oder Strings müssen durch einen Beistrich getrennt werden.\n",
    "\n",
    "***"
   ]
  },
  {
   "cell_type": "code",
   "execution_count": null,
   "metadata": {},
   "outputs": [],
   "source": [
    "print(1,2,3)"
   ]
  },
  {
   "cell_type": "code",
   "execution_count": null,
   "metadata": {},
   "outputs": [],
   "source": [
    "print(\"Hello Python!\")"
   ]
  },
  {
   "cell_type": "code",
   "execution_count": null,
   "metadata": {},
   "outputs": [],
   "source": [
    "datum = \"01.01.2000\"\n",
    "print(\"Das heutige Datum ist:\", datum)"
   ]
  },
  {
   "cell_type": "markdown",
   "metadata": {},
   "source": [
    "<code style=\"background:khaki\">                                                                                     </code>\n",
    "\n",
    "### Struktur ist alles - Programmstruktur in Python\n",
    "\n",
    "In vielen Programmiersprachen werden einzelne Blöcke mit Klammern markiert (z.B. auch in R). In Python wird die Zugehörigkeit zu einem Block durch Einrückungen erzielt. Wenn ein Block definiert wird steht am Ende ein Doppelpunkt.\n",
    "\n",
    "Ein Beispiel - **if** Bedingung\n",
    "Alles was zum if Block gehört ist eingerückt, und wird nur ausgeführt wenn die Bedingung zutrifft.\n",
    "***"
   ]
  },
  {
   "cell_type": "code",
   "execution_count": null,
   "metadata": {},
   "outputs": [],
   "source": [
    "x = 1\n",
    "if x == 1:\n",
    "    print(\"Wir sind im if Block\")\n",
    "    print(\"Der Wert der Variable x ist 1\")"
   ]
  },
  {
   "cell_type": "markdown",
   "metadata": {},
   "source": [
    "***\n",
    "Was wir im folgenden Beispiel ausgedruck?\n",
    "\n",
    "> - **(a)** \"Der Wert der Variable x ist 1\" und \"Der Wert von x ist x\"\n",
    "> - **(b)** \"Der Wert der Variable x ist 1\" und \"Der Wert von x ist 1\"\n",
    "> - **(c)** \"Der Wert der Variable x ist 1\"\n",
    "> - **(d)** \"Der Wert von x ist 1\"\n",
    "***"
   ]
  },
  {
   "cell_type": "code",
   "execution_count": null,
   "metadata": {},
   "outputs": [],
   "source": [
    "x = 1\n",
    "if x == 1:\n",
    "    print(\"Der Wert der Variable x ist 1\")\n",
    "\n",
    "print(\"Der Wert von x ist\", x)"
   ]
  },
  {
   "cell_type": "markdown",
   "metadata": {},
   "source": [
    "***\n",
    "Und im nächsten Beispiel?\n",
    "\n",
    "> - **(a)** \"Der Wert der Variable x ist 1\" und \"Der Wert von x ist x\"\n",
    "> - **(b)** \"Der Wert der Variable x ist 1\" und \"Der Wert von x ist 7\"\n",
    "> - **(c)** \"Der Wert der Variable x ist 1\"\n",
    "> - **(d)** \"Der Wert von x ist 7\"\n",
    "***"
   ]
  },
  {
   "cell_type": "code",
   "execution_count": null,
   "metadata": {},
   "outputs": [],
   "source": [
    "x = 7\n",
    "if x == 1:\n",
    "    print(\"Der Wert der Variable x ist 1\")\n",
    "print(\"Der Wert von x ist\", x)"
   ]
  },
  {
   "cell_type": "markdown",
   "metadata": {},
   "source": [
    "<code style=\"background:khaki\">                                                                                     </code>\n",
    "\n",
    "### Variablen und Typen\n",
    "\n",
    "Variablen sind Behälter, denen man Werte zuweisen kann. Variablennamen können, unter Einhaltung bestimmter Regeln, frei gewählt werden. Diese Regeln sind für Python:\n",
    "\n",
    "* Der Name muss mit einem Buchstaben oder einem Unterstrich beginnen. \n",
    "* Der Name darf nicht mit einer Nummer beginnen \n",
    "* Der Name kann nur alpha-numerische Zeichen und das Unterstrichzeichen enthalten (A-z, 0-9, und _ )\n",
    "* Variablennamen sind case-sensitive (age, Age und AGE sind drei unterschiedliche Variablen)\n",
    "\n",
    "In Python muss man den Variablentyp nicht definieren wie in anderen Programmiersprachen. Es gibt aber trotzdem Unterschiede in den Datentypen.\n",
    "\n",
    "**Haupttypen:**\n",
    "* Zahlen: Integers (Ganze Zahlen), Float (Kommazahlen)\n",
    "* Strings: Texteingaben, müssen in Anführungszeichen (einfach, oder doppelt) geschrieben sein.\n",
    "* Operatoren: Zeichen für mathematische Operationen (+,-,...). Man kann manche Operatoren auch für Strings verwenden. \n",
    "\n",
    "Den Datentyp bzw. die Datenklasse kann man mit der Funktion `type()` abrufen. Man kann auch mit Funktionen wie `str()`, `int()`, oder `float()` Variablenklassen definieren.\n",
    "\n",
    "***"
   ]
  },
  {
   "cell_type": "code",
   "execution_count": null,
   "metadata": {},
   "outputs": [],
   "source": [
    "mystring = \"Guten Abend\"\n",
    "myname = \"Alex\"\n",
    "\n",
    "mynum = 12\n",
    "\n",
    "print(type(mynum))\n",
    "print(type(mystring))\n",
    "\n",
    "#Zusammensetzten von Strings\n",
    "print(mystring + \" \" + myname)\n",
    "\n",
    "#Drucken verschiedener Datenklassen\n",
    "print(\"Die Antwort ist die Zahl:\", mynum)"
   ]
  },
  {
   "cell_type": "markdown",
   "metadata": {},
   "source": [
    "***\n",
    "> Welche Datenklasse hat die Variable mynum im folgenden Codeabschnitt? \n",
    ">\n",
    "> **Aufgabe**: Verwendet die `type()` Funktion um es herauszufinden.\n",
    "***"
   ]
  },
  {
   "cell_type": "code",
   "execution_count": null,
   "metadata": {},
   "outputs": [],
   "source": [
    "mynum = 12\n",
    "mynum = str(mynum)\n",
    "\n",
    "#Welche Datenklasse hat die Variable mynum? \n",
    "#Verwendet die type Funktion um es herauszufinden.\n",
    "\n",
    "print(type(mynum))\n"
   ]
  },
  {
   "cell_type": "code",
   "execution_count": null,
   "metadata": {},
   "outputs": [],
   "source": [
    "myfloat1 = 12.0\n",
    "myfloat2 = float(12)\n",
    "\n",
    "print(type(myfloat1))\n",
    "print(type(myfloat2))"
   ]
  },
  {
   "cell_type": "markdown",
   "metadata": {},
   "source": [
    "<code style=\"background:khaki\">                                                                                     </code>\n",
    "\n",
    "### if Abfrage\n",
    "\n",
    "Wenn Code nur unter einer bestimmten Bedingung ausgeführt werden soll, benötigen wir `if` sowie eine Bedingung die erfüllt werden muss.  \n",
    "\n",
    "In Python hat eine if Abfrage den folgenden Syntax:\n",
    "\n",
    "`if <Bedingung>:\n",
    "    Der Doppelpunkt ist wichtig, genau wie die Einrückung.\n",
    "else:\n",
    "    Auch hier benötigt man einen Doppelpunkt und die Einrückung.`\n",
    " \n",
    "Wenn es noch andere Bedingungen gibt, kann man in Python die Funktion `elif <Bedingung>:` verwenden. Vergleichsoperatoren können die folgenden sein:\n",
    "\n",
    "* == : für gleich \n",
    "* != : für ungleich\n",
    "* \\> bzw. \\< : für größer und kleiner\n",
    "* \\>= bzw. <=\n",
    "\n",
    "***\n"
   ]
  },
  {
   "cell_type": "code",
   "execution_count": null,
   "metadata": {},
   "outputs": [],
   "source": [
    "wetter = \"sonnig\"\n",
    "\n",
    "if wetter == \"sonnig\":\n",
    "    print(\"Sonnenbrille nicht vergessen.\")\n",
    "else:\n",
    "    print(\"Bye, bye...\")"
   ]
  },
  {
   "cell_type": "code",
   "execution_count": null,
   "metadata": {},
   "outputs": [],
   "source": [
    "wetter = \"regnerisch\"\n",
    "\n",
    "if wetter == \"sonnig\":\n",
    "    print(\"Sonnenbrille nicht vergessen.\")\n",
    "elif wetter == \"wolkig\":\n",
    "    print(\"Bye, bye...\")\n",
    "elif wetter == \"regnerisch\":\n",
    "    print(\"Regenschirm nicht vergessen.\")\n",
    "else:\n",
    "    print(\"Error: Das Wetter,\", wetter.upper(),\"kenne ich nicht\")"
   ]
  },
  {
   "cell_type": "markdown",
   "metadata": {},
   "source": [
    "<code style=\"background:royalblue\">                                                                                     </code>\n",
    "\n",
    "***\n",
    "    \n",
    "> **<font color = royalblue>Aufgabe 1:</font>**\n",
    ">\n",
    "> Ändert das folgende Python Skript so ab, dass:\n",
    ">\n",
    "> 1.\tDie Variable \"name\" euren Namen enthält, und die Variable \"birthyear\" euer Geburtsjahr.\n",
    "> 2.\tFügt einen else block hinzu der ausgibt „Enjoy, don’t worry“.\n",
    "> 3.\tÄndert nun den Code so dass auch das gegenwärtige Jahr als Variable gespeichert wird und ersetzt das Jahr 2021 im Code durch diese Variable.\n",
    "> 4. Testet eurer Skript mit den Geburtsjahren 2001, und 1980, und überprüft, ob im ersten Fall der else Teil, im zweiten Fall aber der if Teil ausgeführt wird.\n",
    ">\n",
    "> Die Aufgabe kann im Jupyter Notebook, in einem der Felder des learnpython.org Tutorials, im Repl.it oder auch lokal in PyCharm gelöst werden. Ladet das fertige Skript auf die Moodle Platform.\n",
    "\n",
    "***"
   ]
  },
  {
   "cell_type": "code",
   "execution_count": null,
   "metadata": {},
   "outputs": [],
   "source": [
    "#Aufgabe P1\n",
    "#Variablenzuweisung\n",
    "name = \"xxx\"\n",
    "birthyear = 1234\n",
    "\n",
    "#Neue Variable (z.B. year)\n",
    "\n",
    "#Berechnung des Alters\n",
    "age = 2023 - birthyear\n",
    "print(\"Hello \",name,\", this year you are\",age,\"years old.\")\n",
    "\n",
    "#If Abfrage ob Wert zwischen 31 und 45 liegt.\n",
    "if age < 45 and age > 30:\n",
    "    midlc = 45 - age\n",
    "    print(\"You still have\",midlc,\"years to your midlife crisis\")\n",
    "#Einfügen von else\n",
    "else:\n",
    "    print(\"Lucky you\")"
   ]
  },
  {
   "cell_type": "markdown",
   "metadata": {},
   "source": [
    "<code style=\"background:khaki\">                                                                                     </code>\n",
    "\n",
    "### Schleifen:\n",
    "\n",
    "In einer Schleife wird derselbe Codeblock ausgeführt, bis eine bestimmte Bedingung eintritt (for) bzw. solange eine bestimmte Bedingung erfüllt ist (while). In Python haben wir zwei Typen von Schleifen, **for** und **while** Schleifen.\n",
    "\n",
    "In Python beginnt der Index bzw. die Zählung immer bei Null. Wenn ich einen Codeblock 3 mal durchlaufen lassen will, könnte man die folgende `for` Schleife verwenden. Wobei die Loop Variable \"x\" die Werte 0-2 annimmt.\n",
    "\n",
    "In der `while` Schleife muss man eine Abbruchbedingung angeben. Etwa, solange eine Zählvariable unter einem bestimmten Wert ist.\n",
    "\n",
    "***\n"
   ]
  },
  {
   "cell_type": "code",
   "execution_count": null,
   "metadata": {},
   "outputs": [],
   "source": [
    "for x in range(3):\n",
    "    print(x)\n",
    "    \n",
    "range(3)"
   ]
  },
  {
   "cell_type": "code",
   "execution_count": null,
   "metadata": {},
   "outputs": [],
   "source": [
    "count=0\n",
    "while count < 3:\n",
    "    print(count)\n",
    "#    count=count+1\n",
    "    count += 1"
   ]
  },
  {
   "cell_type": "markdown",
   "metadata": {},
   "source": [
    "<code style=\"background:royalblue\">                                                                                     </code>\n",
    "\n",
    "    \n",
    "**<font color = royalblue>Aufgabe 2 - Beschreibung:</font>**\n",
    "\n",
    "Im nächsten Beispiel haben wir eine Sequenz von Wetterdaten. Jeder Buchstabe entspricht dem Wetter eines Tages.\n",
    "\n",
    "`wetter=\"SSWNWWRRSWWSRRRRWRRWRXXRSSSWWRSRXRXXSSNNRSWWWRWNWNXSXSSRRRXRNSWWWWSRXXRWWSWWXXSSSR\"`\n",
    "\n",
    "Bedeutung des Buchstabencodes:\n",
    "* N = Nebel\n",
    "* R = Regen\n",
    "* S = Sonne\n",
    "* W = Wolken\n",
    "* X = Schnee\n",
    "\n",
    "Für die Sequenz, welche der Variable \"wetter\" zugewiesen wurde möchten wir herausfinden wie viele Sonnentage es in der Periode gab.\n",
    "\n",
    "Dafür müssen wir durch jeden Buchstaben (Tag) der Sequenz gehen, und wenn es ein S ist, eine Zählvariable (z.B. sonnentage) um 1 erhöhen. Das Programm beinhaltet:\n",
    "\n",
    "* eine for Schleife\n",
    "* eine if Abfrage mit dem Vergleich der Buchstaben\n",
    "* eine Erhöhung eines Zählers\n",
    "\n",
    "Zuerst sehen wir uns an was in der Schleifenvariable (hier: \"tag\") der for Schleife gespeichert wird, wenn sie schrittweise durch die \"wetter\" läuft. Die Variable, die in der Schleife verwendet wird, muss vorher nicht definiert werden, und kann jeden zulässigen Namen haben.\n",
    "\n",
    "Wir können auch folgendes verwenden:\n",
    "\n",
    "`for i in wetter:\n",
    "    print(i)` \n",
    "\n",
    "Generell sind sprechendere Namen, aber besser, da man dann schneller erkennt was hinter der Variable steckt.\n",
    "\n",
    "***\n"
   ]
  },
  {
   "cell_type": "code",
   "execution_count": null,
   "metadata": {},
   "outputs": [],
   "source": [
    "wetter=\"SSWNWWRRSWWSRRRRWRRWRXXRSSSWWRSRXRXXSSNNRSWWWRWNWNXSXSSRRRXRNSWWWWSRXXRWWSWWXXSSSR\"\n",
    "\n",
    "for tag in wetter:\n",
    "    print(tag)"
   ]
  },
  {
   "cell_type": "markdown",
   "metadata": {},
   "source": [
    "<code style=\"background:royalblue\">                                                                                     </code>\n",
    "\n",
    "Praktischerweise gibt Python in der for Schleife über einen String den Inhalt der jeweiligen Position des Strings zurück. Damit müssen wir nun nur mehr überprüfen, ob die Variable die von der for Schleife befüllt wird (hier: \"tag\") ein \"S\" ist. Wenn ja können wir den Zähler erhöhen.\n",
    "\n",
    "Wir benötigen:\n",
    "> * Eine Zählvariable die wir mit 0 Initialisieren\n",
    "> * Eine if Abfrage ob der jeweilige Inhalt der Variable \"tag\" mit dem String \"S\" übereinstimmt.\n",
    "\n",
    "Um die Zählvariable (hier: \"sonnentage\") um 1 zu erhöhen gibt es eine Kurzform: `sonnentage += 1`\n",
    "\n",
    "Die % Sonnentage können wir uns über die Länge der Sequenz und die Anzahl der Sonnentage berechnen. Die Länge der Sequenz bekommt man mit `len(wetter)`.\n",
    "\n",
    "\n",
    "**<font color = royalblue>Aufgabe 2:</font>**\n",
    "\n",
    "> * Ergänzt die fehlenden Teile im Code\n",
    "> * Wo muss der `print()` Befehl stehen damit er die gesamte Anzahl von Sonnentagen in der Sequenz ausgibt? Ergänzt den Code unten entsprechend. \n",
    "> * Ergänzt den Code mit der Berechnung der % Sonnentage und druckt den Wert aus.\n",
    "\n",
    "***"
   ]
  },
  {
   "cell_type": "code",
   "execution_count": null,
   "metadata": {},
   "outputs": [],
   "source": [
    "#Input Sequenz Wetter\n",
    "wetter=\"SSWNWWRRSWWSRRRRWRRWRXXRSSSWWRSRXRXXSSNNRSWWWRWNWNXSXSSRRRXRNSWWWWSRXXRWWSWWXXSSSR\"\n",
    "periode=len(wetter)\n",
    "\n",
    "#Initialisierung Zählvariable\n",
    "sonnentage = 0\n",
    "\n",
    "#For Schleife über Wetter Sequenz, wenn der Buchstabe aus der Input Sequenz\n",
    "#mit \"S\" übereinstimmt, Zähler erhöhen.\n",
    "#Ergänzt die fehlenden Teile im Code\n",
    "for tag in wetter:\n",
    "    if tag == :\n",
    "        sonnentage +=\n",
    "        #Fügt den print() Befehl an der richtigen Stelle ein.\n",
    "\n",
    "#Berechnung % Sonnentage\n",
    "\n"
   ]
  },
  {
   "cell_type": "markdown",
   "metadata": {},
   "source": [
    "<code style=\"background:lightgrey\">                                                                                     </code>\n",
    "\n",
    "**Ausflug: Heutiges Datum ausgeben**\n",
    "\n",
    "Um immer das aktuelle Datum auszugeben, muss man ein zusätzliches Modul importieren. Ähnlich wie in R können auch in Python viele unterschiedliche Module importiert und verwendet werden.\n",
    "Der Import geschieht über den Befehl: **import** mit dem Namen des Moduls\n",
    "Aufgerufen werden die Funktionen im Modul immer mit dem `Modulnamen.Funktion()` bzw. `Modulnamen.Funktion.Unterfunktion()`\n",
    "\n",
    "Es gibt noch andere Methoden um nur einzelne Funktionen aus Modulen zu importieren, dann benötigt man den Modulnamen nicht beim Aufruf. \n",
    "z.B. **from** datetime **import** date\n",
    "\n",
    "Die beiden Importmethoden haben ihre Vor- und Nachteile auf die wir hier nicht weiter eingehen.\n",
    "\n",
    "***\n"
   ]
  },
  {
   "cell_type": "code",
   "execution_count": null,
   "metadata": {},
   "outputs": [],
   "source": [
    "#Improtieren des Moduls datetime\n",
    "import datetime\n",
    "#Aufrufen der Funktion welche das heutige Datum ausgibt\n",
    "datum = datetime.date.today()\n",
    "#Ausdrucken des formatierten Datums\n",
    "print(datum.strftime(\"%d.%m.%Y\"))"
   ]
  },
  {
   "cell_type": "code",
   "execution_count": null,
   "metadata": {},
   "outputs": [],
   "source": [
    "from datetime import date \n",
    "\n",
    "datum = date.today()\n",
    "#Ausdrucken des formatierten Datums\n",
    "print(datum.strftime(\"%d.%m.%Y\"))"
   ]
  }
 ],
 "metadata": {
  "kernelspec": {
   "display_name": "Python 3 (ipykernel)",
   "language": "python",
   "name": "python3"
  },
  "language_info": {
   "codemirror_mode": {
    "name": "ipython",
    "version": 3
   },
   "file_extension": ".py",
   "mimetype": "text/x-python",
   "name": "python",
   "nbconvert_exporter": "python",
   "pygments_lexer": "ipython3",
   "version": "3.11.1"
  }
 },
 "nbformat": 4,
 "nbformat_minor": 4
}
